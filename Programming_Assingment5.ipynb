{
 "cells": [
  {
   "cell_type": "markdown",
   "id": "262cc07d",
   "metadata": {},
   "source": [
    "### Q1. Write a Python Program to Find LCM?"
   ]
  },
  {
   "cell_type": "code",
   "execution_count": 2,
   "id": "a5e9bbf8",
   "metadata": {},
   "outputs": [
    {
     "name": "stdout",
     "output_type": "stream",
     "text": [
      "Enter num1 : 23\n",
      "Enter num1 : 46\n",
      "The LCM of 23 and 46 is 46\n"
     ]
    }
   ],
   "source": [
    "# LCM: Least Common Multiple/ Lowest Common Multiple\n",
    "# It is the smallest positive integer that is divisible by both \"a\" and \"b\"\n",
    "\n",
    "a = int(input(\"Enter num1 : \"))\n",
    "b = int(input(\"Enter num1 : \"))\n",
    "\n",
    "# lets find biggest number\n",
    "if a > b:\n",
    "    bigger = a\n",
    "else:\n",
    "    bigger = b\n",
    "    \n",
    "while(True):\n",
    "    if bigger % a == 0 and bigger % b == 0 :\n",
    "        lcm = bigger\n",
    "        break\n",
    "    bigger+=1\n",
    "    \n",
    "print(\"The LCM of {} and {} is {}\".format(a,b,lcm))"
   ]
  },
  {
   "cell_type": "markdown",
   "id": "dbf38738",
   "metadata": {},
   "source": [
    "### Q2. Write a Python Program to Find HCF?"
   ]
  },
  {
   "cell_type": "code",
   "execution_count": 3,
   "id": "721701c2",
   "metadata": {},
   "outputs": [
    {
     "name": "stdout",
     "output_type": "stream",
     "text": [
      "Enter num1 : 56\n",
      "Enter num1 : 7888\n",
      "The hcf of 56 and 7888 is 8\n"
     ]
    }
   ],
   "source": [
    "# HCF: Highest Common Factor\n",
    "# is the largest positive integer that evenly divides the numbers without a remainder\n",
    "\n",
    "a = int(input(\"Enter num1 : \"))\n",
    "b = int(input(\"Enter num1 : \"))\n",
    "\n",
    "# lets find biggest number\n",
    "if a < b:\n",
    "    smaller = a\n",
    "else:\n",
    "    smaller = b\n",
    "hcf = 0   \n",
    "for i in range(1,smaller+1):\n",
    "    if a % i == 0 and b % i == 0 :\n",
    "        hcf = i\n",
    "    \n",
    "print(\"The hcf of {} and {} is {}\".format(a,b,hcf))"
   ]
  },
  {
   "cell_type": "markdown",
   "id": "52990aa8",
   "metadata": {},
   "source": [
    "### Q3. Write a Python Program to Convert Decimal to Binary, Octal and Hexadecimal?"
   ]
  },
  {
   "cell_type": "code",
   "execution_count": 4,
   "id": "d50768e4",
   "metadata": {},
   "outputs": [
    {
     "name": "stdout",
     "output_type": "stream",
     "text": [
      "Enter number :56758\n",
      "56758 in binary :  0b1101110110110110\n",
      "56758 in Octal :  0o156666\n",
      "56758 in Hexadecimal :  0xddb6\n"
     ]
    }
   ],
   "source": [
    "num=int(input(\"Enter number :\"))\n",
    "\n",
    "print(num, \"in binary : \", bin(num))\n",
    "print(num, \"in Octal : \", oct(num))\n",
    "print(num, \"in Hexadecimal : \",hex(num))"
   ]
  },
  {
   "cell_type": "markdown",
   "id": "ddbf6f17",
   "metadata": {},
   "source": [
    "### Q4. Write a Python Program To Find ASCII value of a character?"
   ]
  },
  {
   "cell_type": "code",
   "execution_count": 7,
   "id": "a1f8a6c8",
   "metadata": {},
   "outputs": [
    {
     "name": "stdout",
     "output_type": "stream",
     "text": [
      "Enter a Charecter : i\n",
      "Ascii value of i is 105\n"
     ]
    }
   ],
   "source": [
    "str = input(\"Enter a Charecter : \")\n",
    "# ord gives the ASCII value of a character\n",
    "print(\"Ascii value of {} is {}\".format(str,ord(str)))"
   ]
  },
  {
   "cell_type": "markdown",
   "id": "77f1d6a3",
   "metadata": {},
   "source": [
    "### Q5. Write a Python Program to Make a Simple Calculator with 4 basic mathematical operations?"
   ]
  },
  {
   "cell_type": "code",
   "execution_count": 9,
   "id": "f591b801",
   "metadata": {},
   "outputs": [
    {
     "name": "stdout",
     "output_type": "stream",
     "text": [
      "Enter num1 :34\n",
      "Enter num2 :22\n",
      "Enter + for addition : \n",
      "Enter - for Subtraction :\n",
      "Enter * for multiplication :\n",
      "Enter / for division : /\n",
      "34.0 / 22.0 = 1.5454545454545454\n"
     ]
    }
   ],
   "source": [
    "num1 = float(input(\"Enter num1 :\"))\n",
    "num2 = float(input(\"Enter num2 :\"))\n",
    "\n",
    "operation = input(\"Enter + for addition : \\nEnter - for Subtraction :\\nEnter * for multiplication :\\nEnter / for division : \")\n",
    "\n",
    "add = num1 + num2\n",
    "sub = num1 - num2\n",
    "mul = num1 * num2\n",
    "\n",
    "\n",
    "if operation == \"+\":\n",
    "    print(\"{} + {} = {}\".format(num1,num2,add))\n",
    "elif operation == \"-\":\n",
    "    print(\"{} - {} = {}\".format(num1,num2,sub))\n",
    "elif operation == \"*\":\n",
    "    print(\"{} * {} = {}\".format(num1,num2,mul))\n",
    "elif operation == \"/\":\n",
    "    if num1 == 0 or num2 == 0:\n",
    "        print(\"Division with zero is not possible\")\n",
    "    else:\n",
    "        div = num1 / num2\n",
    "        print(\"{} / {} = {}\".format(num1,num2,div))\n",
    "else:\n",
    "    print(\"Invalid input\")\n",
    "    "
   ]
  },
  {
   "cell_type": "code",
   "execution_count": null,
   "id": "6511df6d",
   "metadata": {},
   "outputs": [],
   "source": []
  }
 ],
 "metadata": {
  "kernelspec": {
   "display_name": "Python 3 (ipykernel)",
   "language": "python",
   "name": "python3"
  },
  "language_info": {
   "codemirror_mode": {
    "name": "ipython",
    "version": 3
   },
   "file_extension": ".py",
   "mimetype": "text/x-python",
   "name": "python",
   "nbconvert_exporter": "python",
   "pygments_lexer": "ipython3",
   "version": "3.9.12"
  }
 },
 "nbformat": 4,
 "nbformat_minor": 5
}

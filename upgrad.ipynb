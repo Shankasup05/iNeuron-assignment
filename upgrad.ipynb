{
 "cells": [
  {
   "cell_type": "markdown",
   "id": "ee3747bc",
   "metadata": {},
   "source": [
    "<!-- import pyinputplus as pyip\n",
    "def coupon_winner():\n",
    "    Coupon_id=pyip.inputInt(\"Enter your 5 digit coupon id= \")\n",
    "if len(str(Coupon_id)) == int(5):\n",
    "    sum_coupon = sum(int(digit) for digit in str(Coupon_id))\n",
    "    unique_id = []\n",
    "    if sum_coupon == 25:\n",
    "        print(\"Happy Holiday\")\n",
    "        unique_id.append(str(Coupon_id))\n",
    "        coupon_winner()\n",
    "    else:\\\n",
    "        print(\"better luck next time\")\n",
    "        coupon_winner()\n",
    "else:\n",
    "    print(\"again enter a 5 digit number\")\n",
    "    coupon_winner() -->"
   ]
  },
  {
   "cell_type": "code",
   "execution_count": null,
   "id": "f3f5fe01",
   "metadata": {},
   "outputs": [],
   "source": [
    "import pyinputplus as pyip\n",
    "while True:\n",
    "    Coupon_id=pyip.inputInt(\"Enter your 5 digit unique coupon id= \")\n",
    "    try:\n",
    "        if len(str(Coupon_id)) == 5:\n",
    "            break\n",
    "    except:\n",
    "        print(\"again enter a 5 digit number\")\n",
    "sum_coupon = sum(int(digit) for digit in str(Coupon_id))\n",
    "unique_id = []\n",
    "while True:\n",
    "    if (sum_coupon == 25) and (Coupon_id not in unique_id) :\n",
    "        print(\"Happy Holiday\")\n",
    "        unique_id.append(Coupon_id)\n",
    "        break\n",
    "    else:\n",
    "        print(\"better luck next time\")\n",
    "        break"
   ]
  },
  {
   "cell_type": "code",
   "execution_count": null,
   "id": "b02650df",
   "metadata": {},
   "outputs": [],
   "source": []
  },
  {
   "cell_type": "code",
   "execution_count": null,
   "id": "71feec20",
   "metadata": {},
   "outputs": [],
   "source": []
  },
  {
   "cell_type": "code",
   "execution_count": null,
   "id": "3f8d2b6a",
   "metadata": {},
   "outputs": [],
   "source": []
  },
  {
   "cell_type": "code",
   "execution_count": null,
   "id": "96710abd",
   "metadata": {},
   "outputs": [],
   "source": []
  },
  {
   "cell_type": "code",
   "execution_count": null,
   "id": "887d8ce3",
   "metadata": {},
   "outputs": [],
   "source": []
  },
  {
   "cell_type": "code",
   "execution_count": null,
   "id": "006dce3c",
   "metadata": {},
   "outputs": [],
   "source": []
  },
  {
   "cell_type": "code",
   "execution_count": null,
   "id": "2bb1c1e6",
   "metadata": {},
   "outputs": [],
   "source": []
  },
  {
   "cell_type": "code",
   "execution_count": null,
   "id": "0494e38d",
   "metadata": {},
   "outputs": [],
   "source": []
  },
  {
   "cell_type": "code",
   "execution_count": null,
   "id": "07346739",
   "metadata": {},
   "outputs": [],
   "source": [
    "Ignore it\n",
    "\n",
    "\n",
    "# import pyinputplus as pyip\n",
    "# def coupon_winner():\n",
    "#     while True:\n",
    "#         Coupon_id=pyip.inputInt(\"Enter your 5 digit unique coupon id= \")\n",
    "#     try:\n",
    "#         if len(str(Coupon_id)) == 5:\n",
    "#             break\n",
    "#     except:\n",
    "#         print(\"again enter a 5 digit number\")\n",
    "#     sum_coupon = sum(int(digit) for digit in str(Coupon_id))\n",
    "#     unique_id = []\n",
    "#     while True:\n",
    "#         if (sum_coupon == 25) and (Coupon_id not in unique_id) :\n",
    "#             print(\"Happy Holiday\")\n",
    "#             unique_id.append(Coupon_id)\n",
    "#             coupon_winner().coupon_id\n",
    "#         else:\n",
    "#             print(\"better luck next time\")"
   ]
  },
  {
   "cell_type": "code",
   "execution_count": null,
   "id": "6554c801",
   "metadata": {},
   "outputs": [],
   "source": []
  },
  {
   "cell_type": "code",
   "execution_count": null,
   "id": "79f12ebd",
   "metadata": {},
   "outputs": [],
   "source": []
  }
 ],
 "metadata": {
  "kernelspec": {
   "display_name": "Python 3 (ipykernel)",
   "language": "python",
   "name": "python3"
  },
  "language_info": {
   "codemirror_mode": {
    "name": "ipython",
    "version": 3
   },
   "file_extension": ".py",
   "mimetype": "text/x-python",
   "name": "python",
   "nbconvert_exporter": "python",
   "pygments_lexer": "ipython3",
   "version": "3.9.12"
  }
 },
 "nbformat": 4,
 "nbformat_minor": 5
}

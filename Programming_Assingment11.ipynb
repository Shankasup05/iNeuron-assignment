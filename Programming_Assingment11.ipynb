{
 "cells": [
  {
   "cell_type": "markdown",
   "id": "6959a55a",
   "metadata": {},
   "source": [
    "### Q1. Write a Python program to find words which are greater than given length k?"
   ]
  },
  {
   "cell_type": "code",
   "execution_count": 2,
   "id": "182dc095",
   "metadata": {},
   "outputs": [
    {
     "name": "stdout",
     "output_type": "stream",
     "text": [
      "Enter the string : love the way you lie\n",
      "Enter the lenth K : 3\n",
      "\n",
      "The original string ' love the way you lie '\n",
      "Words which are greater than length 3\n",
      "['love']\n"
     ]
    }
   ],
   "source": [
    "def wBiggerThnLnhtK(k,str):\n",
    "    txt = str.split()\n",
    "    listOfWords = []\n",
    "    for i in txt:\n",
    "        if len(i) > k:\n",
    "            listOfWords.append(i)\n",
    "    return listOfWords\n",
    "\n",
    "str = input(\"Enter the string : \")\n",
    "k = int(input(\"Enter the lenth K : \"))\n",
    "\n",
    "listword = wBiggerThnLnhtK(k,str)\n",
    "\n",
    "print(\"\\nThe original string ' {} '\".format(str))\n",
    "\n",
    "print(\"Words which are greater than length {}\".format(k))\n",
    "print(listword)\n",
    " "
   ]
  },
  {
   "cell_type": "markdown",
   "id": "5a389492",
   "metadata": {},
   "source": [
    "### Q2. Write a Python program for removing i-th character from a string?"
   ]
  },
  {
   "cell_type": "code",
   "execution_count": 3,
   "id": "b707f3d5",
   "metadata": {},
   "outputs": [
    {
     "name": "stdout",
     "output_type": "stream",
     "text": [
      "Enter the string : trtdtygcyikfi\n",
      "Enter the index : 3\n",
      "The new string :  trttygcyikfi\n"
     ]
    }
   ],
   "source": [
    "# Removes character at index i\n",
    "def remove(str, i): \n",
    "  \n",
    "    for j in range(len(str)):\n",
    "        if j == i:\n",
    "            str = str.replace(str[i], \"\", 1)\n",
    "    return str      \n",
    "\n",
    "str = input(\"Enter the string : \")\n",
    "i = int(input(\"Enter the index : \"))      \n",
    "\n",
    "# Print the new string\n",
    "\n",
    "print(\"The new string : \", remove(str, i))"
   ]
  },
  {
   "cell_type": "markdown",
   "id": "297f06e3",
   "metadata": {},
   "source": [
    "### Q3. Write a Python program to split and join a string?"
   ]
  },
  {
   "cell_type": "code",
   "execution_count": 4,
   "id": "6b153c91",
   "metadata": {},
   "outputs": [
    {
     "name": "stdout",
     "output_type": "stream",
     "text": [
      "Spliting a string :  ['this', 'is', 'a', 'string']\n",
      "Joining a string :  this-is-a-string\n"
     ]
    }
   ],
   "source": [
    "str = \"this is a string\"\n",
    "str = str.split(\" \") # str is converted to a list of strings. \n",
    "print(\"Spliting a string : \",str)\n",
    "\n",
    "\n",
    "str2 = \"-\".join(str)\n",
    "print(\"Joining a string : \",str2)"
   ]
  },
  {
   "cell_type": "markdown",
   "id": "b7cbf27b",
   "metadata": {},
   "source": [
    "### Q4. Write a Python to check if a given string is binary string or not?"
   ]
  },
  {
   "cell_type": "code",
   "execution_count": 10,
   "id": "83d3994e",
   "metadata": {},
   "outputs": [
    {
     "name": "stdout",
     "output_type": "stream",
     "text": [
      "Enter the string : 10\n",
      "Its a Binary\n"
     ]
    }
   ],
   "source": [
    "def checkBinary(str):\n",
    "    binary = '01'\n",
    "    for i in range(len(str)):\n",
    "        if str[i] not in binary:\n",
    "            print('Not Binary')\n",
    "            break\n",
    "    else:\n",
    "        print('Its a Binary')\n",
    "        \n",
    "str = input(\"Enter the string : \")\n",
    "checkBinary(str)    "
   ]
  },
  {
   "cell_type": "markdown",
   "id": "e4f1c1af",
   "metadata": {},
   "source": [
    "### Q5. Write a Python program to find uncommon words from two Strings?"
   ]
  },
  {
   "cell_type": "code",
   "execution_count": 14,
   "id": "0fc81603",
   "metadata": {},
   "outputs": [
    {
     "name": "stdout",
     "output_type": "stream",
     "text": [
      "Enter the string a : assaada\n",
      "Enter the string b : assaada\n",
      "The list of un Common words :  \n"
     ]
    }
   ],
   "source": [
    "def unCommon(a,b):\n",
    "    list_a = a.split()\n",
    "    list_b = b.split()\n",
    "    unCom =''\n",
    "    \n",
    "    for i in list_a:\n",
    "        if i not in list_b:\n",
    "            unCom = unCom +\" \"+ i\n",
    "    for j in list_b:\n",
    "        if j not in list_a:\n",
    "            unCom = unCom +\" \"+ j\n",
    "    return unCom\n",
    "\n",
    "a = input(\"Enter the string a : \").lower()\n",
    "b = input(\"Enter the string b : \").lower()\n",
    "\n",
    "print(\"The list of un Common words : \", unCommon(a,b))  "
   ]
  },
  {
   "cell_type": "markdown",
   "id": "e6aab430",
   "metadata": {},
   "source": [
    "### Q6. Write a Python to find all duplicate characters in string?"
   ]
  },
  {
   "cell_type": "code",
   "execution_count": 15,
   "id": "15e75072",
   "metadata": {},
   "outputs": [
    {
     "name": "stdout",
     "output_type": "stream",
     "text": [
      "Enter the string a : dfddfj\n"
     ]
    },
    {
     "data": {
      "text/plain": [
       "['d', 'f']"
      ]
     },
     "execution_count": 15,
     "metadata": {},
     "output_type": "execute_result"
    }
   ],
   "source": [
    "str = input(\"Enter the string a : \").lower()\n",
    "duplicate = []\n",
    "\n",
    "for i in str:\n",
    "    if str.count(i) > 1 :\n",
    "        if i not in duplicate:\n",
    "            duplicate.append(i)\n",
    "        \n",
    "duplicate"
   ]
  },
  {
   "cell_type": "markdown",
   "id": "39158b31",
   "metadata": {},
   "source": [
    "### Q7. Write a Python Program to check if a string contains any special character?"
   ]
  },
  {
   "cell_type": "code",
   "execution_count": 16,
   "id": "672798de",
   "metadata": {},
   "outputs": [
    {
     "name": "stdout",
     "output_type": "stream",
     "text": [
      "Enter the string a : fghdjghk,f\n",
      "String fghdjghk,f has special charecter/s : [',']\n"
     ]
    }
   ],
   "source": [
    "import string\n",
    "\n",
    "string_char = string.punctuation\n",
    "spChar = []\n",
    "\n",
    "str = input(\"Enter the string a : \").lower()\n",
    "for i in str:\n",
    "    if i in string_char:\n",
    "        spChar.append(i)\n",
    "if len(spChar) > 0:\n",
    "    print(\"String {} has special charecter/s : {}\".format(str,spChar))"
   ]
  },
  {
   "cell_type": "code",
   "execution_count": null,
   "id": "1bfc4086",
   "metadata": {},
   "outputs": [],
   "source": []
  }
 ],
 "metadata": {
  "kernelspec": {
   "display_name": "Python 3 (ipykernel)",
   "language": "python",
   "name": "python3"
  },
  "language_info": {
   "codemirror_mode": {
    "name": "ipython",
    "version": 3
   },
   "file_extension": ".py",
   "mimetype": "text/x-python",
   "name": "python",
   "nbconvert_exporter": "python",
   "pygments_lexer": "ipython3",
   "version": "3.9.12"
  }
 },
 "nbformat": 4,
 "nbformat_minor": 5
}

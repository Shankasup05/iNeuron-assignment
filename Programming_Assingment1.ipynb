{
 "cells": [
  {
   "cell_type": "markdown",
   "id": "7f403f61",
   "metadata": {},
   "source": [
    "### Q1. Write a Python program to print &quot;Hello Python&quot;?"
   ]
  },
  {
   "cell_type": "code",
   "execution_count": 1,
   "id": "64d3e9c2",
   "metadata": {},
   "outputs": [
    {
     "name": "stdout",
     "output_type": "stream",
     "text": [
      "Hello Python\n"
     ]
    }
   ],
   "source": [
    "print(\"Hello Python\")"
   ]
  },
  {
   "cell_type": "markdown",
   "id": "fde3f3c3",
   "metadata": {},
   "source": [
    "### Q2. Write a Python program to do arithmetical operations addition and division.?"
   ]
  },
  {
   "cell_type": "code",
   "execution_count": 2,
   "id": "ef099dfb",
   "metadata": {},
   "outputs": [
    {
     "name": "stdout",
     "output_type": "stream",
     "text": [
      "Addition 10+30 = 40\n",
      "Division 10/30 = 0.3333333333333333\n"
     ]
    }
   ],
   "source": [
    "a = 10\n",
    "b = 30\n",
    "\n",
    "print(f\"Addition {a}+{b} = {a+b}\")\n",
    "print(f\"Division {a}/{b} = {a/b}\")"
   ]
  },
  {
   "cell_type": "markdown",
   "id": "b4142970",
   "metadata": {},
   "source": [
    "### Q3. Write a Python program to find the area of a triangle?"
   ]
  },
  {
   "cell_type": "code",
   "execution_count": 6,
   "id": "0795b17e",
   "metadata": {},
   "outputs": [
    {
     "name": "stdout",
     "output_type": "stream",
     "text": [
      "Enter base :1213\n",
      "Enter height :2324\n",
      "Area of Triangle =  1409506.0\n"
     ]
    }
   ],
   "source": [
    "\n",
    "b = int(input(\"Enter base :\"))\n",
    "h = int(input(\"Enter height :\"))\n",
    "\n",
    "area = (b*h)/2\n",
    "\n",
    "print(\"Area of Triangle = \", area)"
   ]
  },
  {
   "cell_type": "markdown",
   "id": "7f32b8e2",
   "metadata": {},
   "source": [
    "### Q4. Write a Python program to swap two variables?"
   ]
  },
  {
   "cell_type": "code",
   "execution_count": 8,
   "id": "7994176e",
   "metadata": {},
   "outputs": [
    {
     "name": "stdout",
     "output_type": "stream",
     "text": [
      "Before swaping a = 10, b = 20\n",
      "After swaping a = 20, b = 10\n"
     ]
    }
   ],
   "source": [
    "a = 10\n",
    "b = 20\n",
    "\n",
    "print(f\"Before swaping a = {a}, b = {b}\")\n",
    "temp = a\n",
    "a = b\n",
    "b = temp\n",
    "\n",
    "print(f\"After swaping a = {a}, b = {b}\")"
   ]
  },
  {
   "cell_type": "markdown",
   "id": "3ae652b2",
   "metadata": {},
   "source": [
    "### Q5. Write a Python program to generate a random number?"
   ]
  },
  {
   "cell_type": "code",
   "execution_count": 10,
   "id": "c610d659",
   "metadata": {},
   "outputs": [
    {
     "name": "stdout",
     "output_type": "stream",
     "text": [
      "76\n"
     ]
    }
   ],
   "source": [
    "import random\n",
    "\n",
    "randomNum = random.randint(0,100)\n",
    "print(randomNum)"
   ]
  },
  {
   "cell_type": "code",
   "execution_count": null,
   "id": "938458d7",
   "metadata": {},
   "outputs": [],
   "source": []
  }
 ],
 "metadata": {
  "kernelspec": {
   "display_name": "Python 3 (ipykernel)",
   "language": "python",
   "name": "python3"
  },
  "language_info": {
   "codemirror_mode": {
    "name": "ipython",
    "version": 3
   },
   "file_extension": ".py",
   "mimetype": "text/x-python",
   "name": "python",
   "nbconvert_exporter": "python",
   "pygments_lexer": "ipython3",
   "version": "3.9.12"
  }
 },
 "nbformat": 4,
 "nbformat_minor": 5
}

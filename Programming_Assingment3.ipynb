{
 "cells": [
  {
   "cell_type": "markdown",
   "id": "5373df34",
   "metadata": {},
   "source": [
    "### Q1. Write a Python Program to Check if a Number is Positive, Negative or Zero?"
   ]
  },
  {
   "cell_type": "code",
   "execution_count": 3,
   "id": "4296a407",
   "metadata": {},
   "outputs": [
    {
     "name": "stdout",
     "output_type": "stream",
     "text": [
      "enter a Number : -0\n",
      "The number is Zero\n"
     ]
    }
   ],
   "source": [
    "num = int(input(\"enter a Number : \"))\n",
    "\n",
    "if num == 0 :\n",
    "    print(\"The number is Zero\")\n",
    "elif num > 0:\n",
    "    print(\"The Number is Positive\")\n",
    "else:\n",
    "    print(\"The number is Negative\")"
   ]
  },
  {
   "cell_type": "markdown",
   "id": "750ab65f",
   "metadata": {},
   "source": [
    "### Q2. Write a Python Program to Check if a Number is Odd or Even?"
   ]
  },
  {
   "cell_type": "code",
   "execution_count": 4,
   "id": "d35021bb",
   "metadata": {},
   "outputs": [
    {
     "name": "stdout",
     "output_type": "stream",
     "text": [
      "enter a Number : -34\n",
      "The number is Even\n"
     ]
    }
   ],
   "source": [
    "num = int(input(\"enter a Number : \"))\n",
    "\n",
    "if num % 2 == 0:\n",
    "    print(\"The number is Even\")\n",
    "else:\n",
    "    print(\"The number is Odd\")"
   ]
  },
  {
   "cell_type": "markdown",
   "id": "c606bf9a",
   "metadata": {},
   "source": [
    "### Q3. Write a Python Program to Check Leap Year?"
   ]
  },
  {
   "cell_type": "code",
   "execution_count": 9,
   "id": "6f5a8ded",
   "metadata": {},
   "outputs": [
    {
     "name": "stdout",
     "output_type": "stream",
     "text": [
      "Enter a year : -2024\n",
      "Leap Year\n"
     ]
    }
   ],
   "source": [
    "def checkYear(year):\n",
    "    if (year % 4) == 0 or (year % 100) == 0 or (year % 400) == 0:\n",
    "        return True\n",
    "    False\n",
    "year = int(input(\"Enter a year : \"))\n",
    "if(checkYear(year)):\n",
    "    print(\"Leap Year\")\n",
    "else:\n",
    "    print(\"Not a Leap Year\")    "
   ]
  },
  {
   "cell_type": "markdown",
   "id": "1002231a",
   "metadata": {},
   "source": [
    "### Q4. Write a Python Program to Check Prime Number?"
   ]
  },
  {
   "cell_type": "code",
   "execution_count": 13,
   "id": "d1daadb0",
   "metadata": {},
   "outputs": [
    {
     "name": "stdout",
     "output_type": "stream",
     "text": [
      "Enter a number: 111\n",
      "111 is not a prime\n"
     ]
    }
   ],
   "source": [
    "num1 = int(input(\"Enter a number: \")) \n",
    " \n",
    "if num1 > 1:\n",
    "    for i in range(2,num1):\n",
    "        if (num1%i) == 0:\n",
    "            print(num1,'is not a prime')                \n",
    "            break\n",
    "    else:\n",
    "        print(num1,'is a prime number')\n",
    "else:\n",
    "    print(\"Number is less than 1\")"
   ]
  },
  {
   "cell_type": "markdown",
   "id": "768bd894",
   "metadata": {},
   "source": [
    "### Q5. Write a Python Program to Print all Prime Numbers in an Interval of 1-10000?"
   ]
  },
  {
   "cell_type": "code",
   "execution_count": 14,
   "id": "0d2e729c",
   "metadata": {},
   "outputs": [
    {
     "name": "stdout",
     "output_type": "stream",
     "text": [
      "Enter a number1: 1\n",
      "Enter a number2: 50\n",
      "2 is a prime number\n",
      "3 is a prime number\n",
      "4 is not a prime\n",
      "5 is a prime number\n",
      "6 is not a prime\n",
      "7 is a prime number\n",
      "8 is not a prime\n",
      "9 is not a prime\n",
      "10 is not a prime\n",
      "11 is a prime number\n",
      "12 is not a prime\n",
      "13 is a prime number\n",
      "14 is not a prime\n",
      "15 is not a prime\n",
      "16 is not a prime\n",
      "17 is a prime number\n",
      "18 is not a prime\n",
      "19 is a prime number\n",
      "20 is not a prime\n",
      "21 is not a prime\n",
      "22 is not a prime\n",
      "23 is a prime number\n",
      "24 is not a prime\n",
      "25 is not a prime\n",
      "26 is not a prime\n",
      "27 is not a prime\n",
      "28 is not a prime\n",
      "29 is a prime number\n",
      "30 is not a prime\n",
      "31 is a prime number\n",
      "32 is not a prime\n",
      "33 is not a prime\n",
      "34 is not a prime\n",
      "35 is not a prime\n",
      "36 is not a prime\n",
      "37 is a prime number\n",
      "38 is not a prime\n",
      "39 is not a prime\n",
      "40 is not a prime\n",
      "41 is a prime number\n",
      "42 is not a prime\n",
      "43 is a prime number\n",
      "44 is not a prime\n",
      "45 is not a prime\n",
      "46 is not a prime\n",
      "47 is a prime number\n",
      "48 is not a prime\n",
      "49 is not a prime\n"
     ]
    },
    {
     "data": {
      "text/plain": [
       "[2, 3, 5, 7, 11, 13, 17, 19, 23, 29, 31, 37, 41, 43, 47]"
      ]
     },
     "execution_count": 14,
     "metadata": {},
     "output_type": "execute_result"
    }
   ],
   "source": [
    "listprime = []\n",
    "num1 = int(input(\"Enter a number1: \")) \n",
    "num2 = int(input(\"Enter a number2: \")) \n",
    "for num in range(num1,num2):  \n",
    "    if num > 1:\n",
    "        for i in range(2,num):\n",
    "            if (num%i) == 0:\n",
    "                print(num,'is not a prime')                \n",
    "                break\n",
    "        else:\n",
    "            print(num,'is a prime number')\n",
    "            listprime.append(num)\n",
    "    \n",
    "listprime "
   ]
  },
  {
   "cell_type": "code",
   "execution_count": null,
   "id": "45f1fbc6",
   "metadata": {},
   "outputs": [],
   "source": []
  }
 ],
 "metadata": {
  "kernelspec": {
   "display_name": "Python 3 (ipykernel)",
   "language": "python",
   "name": "python3"
  },
  "language_info": {
   "codemirror_mode": {
    "name": "ipython",
    "version": 3
   },
   "file_extension": ".py",
   "mimetype": "text/x-python",
   "name": "python",
   "nbconvert_exporter": "python",
   "pygments_lexer": "ipython3",
   "version": "3.9.12"
  }
 },
 "nbformat": 4,
 "nbformat_minor": 5
}
